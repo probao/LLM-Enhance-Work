{
  "nbformat": 4,
  "nbformat_minor": 0,
  "metadata": {
    "colab": {
      "provenance": []
    },
    "kernelspec": {
      "name": "python3",
      "display_name": "Python 3"
    },
    "language_info": {
      "name": "python"
    }
  },
  "cells": [
    {
      "cell_type": "code",
      "execution_count": null,
      "metadata": {
        "id": "A5DblimeeL3V"
      },
      "outputs": [],
      "source": [
        "%pip install langchain\n",
        "%pip install -U langchain-community\n",
        "%pip install tiktoken\n",
        "%pip install streamlit\n",
        "%pip install unstructured"
      ]
    },
    {
      "cell_type": "code",
      "source": [
        "from langchain_community.document_loaders import UnstructuredURLLoader"
      ],
      "metadata": {
        "id": "IgJCwUbkU0kR"
      },
      "execution_count": 3,
      "outputs": []
    },
    {
      "cell_type": "code",
      "source": [
        "# 导入网站信息\n",
        "urls = [\"https://www.societyforscience.org/regeneron-sts/2025-scholars/\"]\n",
        "loader = UnstructuredURLLoader(urls=urls)\n",
        "data = loader.load()"
      ],
      "metadata": {
        "id": "8GyN0SefU0XK"
      },
      "execution_count": 4,
      "outputs": []
    },
    {
      "cell_type": "code",
      "source": [
        "data"
      ],
      "metadata": {
        "collapsed": true,
        "id": "q5sb6oOYVUXc"
      },
      "execution_count": null,
      "outputs": []
    },
    {
      "cell_type": "code",
      "source": [
        "from langchain.text_splitter import RecursiveCharacterTextSplitter\n",
        "\n",
        "text_splitter = RecursiveCharacterTextSplitter(separators=[\"\\n\\n\"], chunk_size=1500, chunk_overlap=0)\n",
        "texts = text_splitter.split_documents(data)"
      ],
      "metadata": {
        "id": "HtENiXE0YKAQ"
      },
      "execution_count": 8,
      "outputs": []
    },
    {
      "cell_type": "code",
      "source": [
        "len(texts)"
      ],
      "metadata": {
        "colab": {
          "base_uri": "https://localhost:8080/"
        },
        "id": "Jm08N5HBYJ8S",
        "outputId": "96a6ac6c-a7d9-487b-aa55-f5007b4931b7"
      },
      "execution_count": 9,
      "outputs": [
        {
          "output_type": "execute_result",
          "data": {
            "text/plain": [
              "41"
            ]
          },
          "metadata": {},
          "execution_count": 9
        }
      ]
    },
    {
      "cell_type": "code",
      "source": [
        "texts[40].page_content"
      ],
      "metadata": {
        "colab": {
          "base_uri": "https://localhost:8080/",
          "height": 71
        },
        "id": "h7GJX0blbZvG",
        "outputId": "106584c4-c5be-4db4-ab30-13b4f17433ae"
      },
      "execution_count": 10,
      "outputs": [
        {
          "output_type": "execute_result",
          "data": {
            "text/plain": [
              "'Ashley Zhu, Age: 17 Hunter College High School, NY Project Title: On Lobe Disappearance of n-Loop Curves Under Curve Shortening Flow\\n\\nMinghao Zou, Age: 18 Valley Christian High School, CA Project Title: A New Particle Pusher With Hadronic Interactions for Modeling Multimessenger Emission From Compact Objects\\n\\nIvan Zou, Age: 17 Stuyvesant High School, NY Project Title: Targeting CDK7: Comparing the Effects of Inhibition, Degradation and Phosphorylation Mutants'"
            ],
            "application/vnd.google.colaboratory.intrinsic+json": {
              "type": "string"
            }
          },
          "metadata": {},
          "execution_count": 10
        }
      ]
    },
    {
      "cell_type": "code",
      "source": [
        "import os\n",
        "\n",
        "os.environ[\"OPENAI_API_BASE\"] = \"your_api_base\"\n",
        "os.environ[\"OPENAI_API_KEY\"] = \"your_api_key\""
      ],
      "metadata": {
        "id": "BoY9waReYJ5B"
      },
      "execution_count": 11,
      "outputs": []
    },
    {
      "cell_type": "code",
      "source": [
        "from langchain.prompts import PromptTemplate\n",
        "\n",
        "template = \"\"\"Between >>> and <<< are the content.\n",
        "The content is from science talent search website and it includes TOP 300 participants' information.\n",
        "Your work is extract some information(Name, Age, School, State and Project Title) from the content. if you can not find relevant information, you do not output anything.\n",
        "You should extract them in JSON format and do no miss anything from the content\n",
        "\n",
        ">>> {page_content} <<<\n",
        "\n",
        "Here is an example Use the following JSON format to include all the information. Pay attention to the State\n",
        "[\n",
        "  {{\n",
        "    'Name': 'Maya Abdelaal',\n",
        "    'Age': '18',\n",
        "    'School': 'Marine Academy of Technology & Environmental Science',\n",
        "    'State': 'NJ',\n",
        "    'Project Title': 'Assessing Airborne Bacteria Abundance in Sea Foam Aerosols'\n",
        "  }},\n",
        "  {{\n",
        "    'Name': 'Laasya Acharya',\n",
        "    'Age': '17',\n",
        "    'School': 'William Mason High School',\n",
        "    'State': 'OH',\n",
        "    'Project Title': 'Implementing a Novel Multimodal Neural Network Approach Using Dynamic Hyperparameter Selection Within an Unmanned Aerial Vehicle for the Early Detection of Crop Diseases'\n",
        "    }},\n",
        "]\n",
        "Extracted:\"\"\"\n",
        "\n",
        "PROMPT = PromptTemplate(\n",
        "    input_variables=[\"page_content\"],\n",
        "    template=template,)"
      ],
      "metadata": {
        "id": "lx-l6v5LZA6V"
      },
      "execution_count": 12,
      "outputs": []
    },
    {
      "cell_type": "code",
      "source": [
        "from langchain.chat_models import ChatOpenAI\n",
        "from langchain.chains import LLMRequestsChain, LLMChain\n",
        "from langchain.schema.output_parser import StrOutputParser\n",
        "\n",
        "llm = ChatOpenAI(model=\"gpt-4\", temperature=0)"
      ],
      "metadata": {
        "id": "QeA_iXc0ZA3n",
        "colab": {
          "base_uri": "https://localhost:8080/"
        },
        "outputId": "fabb91f9-3ca2-4f2c-c450-f64b275c6da6"
      },
      "execution_count": 13,
      "outputs": [
        {
          "output_type": "stream",
          "name": "stderr",
          "text": [
            "<ipython-input-13-6b39d6d98909>:5: LangChainDeprecationWarning: The class `ChatOpenAI` was deprecated in LangChain 0.0.10 and will be removed in 1.0. An updated version of the class exists in the :class:`~langchain-openai package and should be used instead. To use it run `pip install -U :class:`~langchain-openai` and import as `from :class:`~langchain_openai import ChatOpenAI``.\n",
            "  llm = ChatOpenAI(model=\"gpt-4\", temperature=0)\n"
          ]
        }
      ]
    },
    {
      "cell_type": "code",
      "source": [
        "chain = PROMPT | llm | StrOutputParser()"
      ],
      "metadata": {
        "id": "vd623XlKdBQO"
      },
      "execution_count": 14,
      "outputs": []
    },
    {
      "cell_type": "code",
      "source": [
        "# 这里有问题\n",
        "# df = pd.DataFrame()\n",
        "data_list = []\n",
        "\n",
        "for t in texts[:3]:\n",
        "  inputs = {\n",
        "            \"page_content\": t.page_content,\n",
        "            }\n",
        "  res = chain.invoke(input=inputs)\n",
        "  data_list.append(res)"
      ],
      "metadata": {
        "id": "eg3BGSfTZA1N"
      },
      "execution_count": 15,
      "outputs": []
    },
    {
      "cell_type": "code",
      "source": [
        "import pandas as pd\n",
        "\n",
        "df = pd.DataFrame()\n",
        "for i,f in enumerate(data_list):\n",
        "  new_df = pd.read_json(f.strip('`').lstrip('json').strip())\n",
        "  df = pd.concat([new_df, df], ignore_index=True)"
      ],
      "metadata": {
        "colab": {
          "base_uri": "https://localhost:8080/"
        },
        "collapsed": true,
        "id": "kf_NIoEffnoa",
        "outputId": "8dbff4aa-1b89-4ea9-bb3e-49760fdac273"
      },
      "execution_count": 51,
      "outputs": [
        {
          "output_type": "stream",
          "name": "stderr",
          "text": [
            "<ipython-input-51-a66ee8866337>:5: FutureWarning: Passing literal json to 'read_json' is deprecated and will be removed in a future version. To read from a literal string, wrap it in a 'StringIO' object.\n",
            "  new_df = pd.read_json(f.strip('`').lstrip('json').strip())\n",
            "<ipython-input-51-a66ee8866337>:5: FutureWarning: Passing literal json to 'read_json' is deprecated and will be removed in a future version. To read from a literal string, wrap it in a 'StringIO' object.\n",
            "  new_df = pd.read_json(f.strip('`').lstrip('json').strip())\n",
            "<ipython-input-51-a66ee8866337>:5: FutureWarning: Passing literal json to 'read_json' is deprecated and will be removed in a future version. To read from a literal string, wrap it in a 'StringIO' object.\n",
            "  new_df = pd.read_json(f.strip('`').lstrip('json').strip())\n"
          ]
        }
      ]
    },
    {
      "cell_type": "code",
      "source": [
        "df"
      ],
      "metadata": {
        "colab": {
          "base_uri": "https://localhost:8080/",
          "height": 520
        },
        "id": "7AXOhkATfz9J",
        "outputId": "3f2fe08f-aa4b-41ed-aca0-9dbfbb11edb3"
      },
      "execution_count": 52,
      "outputs": [
        {
          "output_type": "execute_result",
          "data": {
            "text/plain": [
              "                       Name  Age  \\\n",
              "0        Liam Aranda-Michel   18   \n",
              "1                 Dev Arora   17   \n",
              "2                Asa Ashley   17   \n",
              "3               Chloe C. Au   17   \n",
              "4        Naima Aubry-Romero   17   \n",
              "5          Fatimah Badoolah   17   \n",
              "6         Sanchali Banerjee   18   \n",
              "7            Laasya Acharya   17   \n",
              "8              Esat Acikgoz   17   \n",
              "9          Johnathan Ahdout   17   \n",
              "10              Aafia Ahmed   17   \n",
              "11               Neel Ahuja   17   \n",
              "12  Vimala Ruth Anne Albert   17   \n",
              "13             Vidya Ambati   17   \n",
              "14            Maya Abdelaal   18   \n",
              "\n",
              "                                               School State  \\\n",
              "0                             Lake Oswego High School    OR   \n",
              "1                       Plano West Senior High School    TX   \n",
              "2   The Carol Martin Gatton Academy of Mathematics...    KY   \n",
              "3                          Paul Duke STEM High School    GA   \n",
              "4                      Richard Montgomery High School    MD   \n",
              "5                             Garden City Park School    NY   \n",
              "6   Thomas Jefferson High School for Science and T...    VA   \n",
              "7                           William Mason High School    OH   \n",
              "8                             Bergen County Academies    NJ   \n",
              "9         John L. Miller Great Neck North High School    NY   \n",
              "10                        Elmont Memorial High School    NY   \n",
              "11                               Millburn High School    NJ   \n",
              "12                       Bronx High School of Science    NY   \n",
              "13                              Albemarle High School    VA   \n",
              "14  Marine Academy of Technology & Environmental S...    NJ   \n",
              "\n",
              "                                        Project Title  \n",
              "0   HemoLens: An Open-Source Pressure Myograph and...  \n",
              "1   A Novel Reinforcement-Learning Approach to Clo...  \n",
              "2   Derived Magnetite on Nickel Foam as an Electro...  \n",
              "3   The Role of Myc in Tunicate Central Nervous Sy...  \n",
              "4   Modeling, Analysis and Prediction of COVID-19 ...  \n",
              "5   The Efficacy of Different Dosages of M. charan...  \n",
              "6   LUSO-GenAI: A Novel Framework Using Conditiona...  \n",
              "7   Implementing a Novel Multimodal Neural Network...  \n",
              "8   Cyanobacteria: Limiting the Bad and Exploiting...  \n",
              "9   Contextualizing Data-Sparse QSPR Property Pred...  \n",
              "10  JAK2/STAT3 Signaling Pathway Mediates Methylme...  \n",
              "11  Reducing Per- and Polyfluoroalkyl Substances (...  \n",
              "12  Would a Rose by Any Other Name Really Smell Ju...  \n",
              "13  Haloperidol Inhibits Inflammasome Activation v...  \n",
              "14  Assessing Airborne Bacteria Abundance in Sea F...  "
            ],
            "text/html": [
              "\n",
              "  <div id=\"df-b7a7186e-1529-43a1-9d70-1f87f2a88d21\" class=\"colab-df-container\">\n",
              "    <div>\n",
              "<style scoped>\n",
              "    .dataframe tbody tr th:only-of-type {\n",
              "        vertical-align: middle;\n",
              "    }\n",
              "\n",
              "    .dataframe tbody tr th {\n",
              "        vertical-align: top;\n",
              "    }\n",
              "\n",
              "    .dataframe thead th {\n",
              "        text-align: right;\n",
              "    }\n",
              "</style>\n",
              "<table border=\"1\" class=\"dataframe\">\n",
              "  <thead>\n",
              "    <tr style=\"text-align: right;\">\n",
              "      <th></th>\n",
              "      <th>Name</th>\n",
              "      <th>Age</th>\n",
              "      <th>School</th>\n",
              "      <th>State</th>\n",
              "      <th>Project Title</th>\n",
              "    </tr>\n",
              "  </thead>\n",
              "  <tbody>\n",
              "    <tr>\n",
              "      <th>0</th>\n",
              "      <td>Liam Aranda-Michel</td>\n",
              "      <td>18</td>\n",
              "      <td>Lake Oswego High School</td>\n",
              "      <td>OR</td>\n",
              "      <td>HemoLens: An Open-Source Pressure Myograph and...</td>\n",
              "    </tr>\n",
              "    <tr>\n",
              "      <th>1</th>\n",
              "      <td>Dev Arora</td>\n",
              "      <td>17</td>\n",
              "      <td>Plano West Senior High School</td>\n",
              "      <td>TX</td>\n",
              "      <td>A Novel Reinforcement-Learning Approach to Clo...</td>\n",
              "    </tr>\n",
              "    <tr>\n",
              "      <th>2</th>\n",
              "      <td>Asa Ashley</td>\n",
              "      <td>17</td>\n",
              "      <td>The Carol Martin Gatton Academy of Mathematics...</td>\n",
              "      <td>KY</td>\n",
              "      <td>Derived Magnetite on Nickel Foam as an Electro...</td>\n",
              "    </tr>\n",
              "    <tr>\n",
              "      <th>3</th>\n",
              "      <td>Chloe C. Au</td>\n",
              "      <td>17</td>\n",
              "      <td>Paul Duke STEM High School</td>\n",
              "      <td>GA</td>\n",
              "      <td>The Role of Myc in Tunicate Central Nervous Sy...</td>\n",
              "    </tr>\n",
              "    <tr>\n",
              "      <th>4</th>\n",
              "      <td>Naima Aubry-Romero</td>\n",
              "      <td>17</td>\n",
              "      <td>Richard Montgomery High School</td>\n",
              "      <td>MD</td>\n",
              "      <td>Modeling, Analysis and Prediction of COVID-19 ...</td>\n",
              "    </tr>\n",
              "    <tr>\n",
              "      <th>5</th>\n",
              "      <td>Fatimah Badoolah</td>\n",
              "      <td>17</td>\n",
              "      <td>Garden City Park School</td>\n",
              "      <td>NY</td>\n",
              "      <td>The Efficacy of Different Dosages of M. charan...</td>\n",
              "    </tr>\n",
              "    <tr>\n",
              "      <th>6</th>\n",
              "      <td>Sanchali Banerjee</td>\n",
              "      <td>18</td>\n",
              "      <td>Thomas Jefferson High School for Science and T...</td>\n",
              "      <td>VA</td>\n",
              "      <td>LUSO-GenAI: A Novel Framework Using Conditiona...</td>\n",
              "    </tr>\n",
              "    <tr>\n",
              "      <th>7</th>\n",
              "      <td>Laasya Acharya</td>\n",
              "      <td>17</td>\n",
              "      <td>William Mason High School</td>\n",
              "      <td>OH</td>\n",
              "      <td>Implementing a Novel Multimodal Neural Network...</td>\n",
              "    </tr>\n",
              "    <tr>\n",
              "      <th>8</th>\n",
              "      <td>Esat Acikgoz</td>\n",
              "      <td>17</td>\n",
              "      <td>Bergen County Academies</td>\n",
              "      <td>NJ</td>\n",
              "      <td>Cyanobacteria: Limiting the Bad and Exploiting...</td>\n",
              "    </tr>\n",
              "    <tr>\n",
              "      <th>9</th>\n",
              "      <td>Johnathan Ahdout</td>\n",
              "      <td>17</td>\n",
              "      <td>John L. Miller Great Neck North High School</td>\n",
              "      <td>NY</td>\n",
              "      <td>Contextualizing Data-Sparse QSPR Property Pred...</td>\n",
              "    </tr>\n",
              "    <tr>\n",
              "      <th>10</th>\n",
              "      <td>Aafia Ahmed</td>\n",
              "      <td>17</td>\n",
              "      <td>Elmont Memorial High School</td>\n",
              "      <td>NY</td>\n",
              "      <td>JAK2/STAT3 Signaling Pathway Mediates Methylme...</td>\n",
              "    </tr>\n",
              "    <tr>\n",
              "      <th>11</th>\n",
              "      <td>Neel Ahuja</td>\n",
              "      <td>17</td>\n",
              "      <td>Millburn High School</td>\n",
              "      <td>NJ</td>\n",
              "      <td>Reducing Per- and Polyfluoroalkyl Substances (...</td>\n",
              "    </tr>\n",
              "    <tr>\n",
              "      <th>12</th>\n",
              "      <td>Vimala Ruth Anne Albert</td>\n",
              "      <td>17</td>\n",
              "      <td>Bronx High School of Science</td>\n",
              "      <td>NY</td>\n",
              "      <td>Would a Rose by Any Other Name Really Smell Ju...</td>\n",
              "    </tr>\n",
              "    <tr>\n",
              "      <th>13</th>\n",
              "      <td>Vidya Ambati</td>\n",
              "      <td>17</td>\n",
              "      <td>Albemarle High School</td>\n",
              "      <td>VA</td>\n",
              "      <td>Haloperidol Inhibits Inflammasome Activation v...</td>\n",
              "    </tr>\n",
              "    <tr>\n",
              "      <th>14</th>\n",
              "      <td>Maya Abdelaal</td>\n",
              "      <td>18</td>\n",
              "      <td>Marine Academy of Technology &amp; Environmental S...</td>\n",
              "      <td>NJ</td>\n",
              "      <td>Assessing Airborne Bacteria Abundance in Sea F...</td>\n",
              "    </tr>\n",
              "  </tbody>\n",
              "</table>\n",
              "</div>\n",
              "    <div class=\"colab-df-buttons\">\n",
              "\n",
              "  <div class=\"colab-df-container\">\n",
              "    <button class=\"colab-df-convert\" onclick=\"convertToInteractive('df-b7a7186e-1529-43a1-9d70-1f87f2a88d21')\"\n",
              "            title=\"Convert this dataframe to an interactive table.\"\n",
              "            style=\"display:none;\">\n",
              "\n",
              "  <svg xmlns=\"http://www.w3.org/2000/svg\" height=\"24px\" viewBox=\"0 -960 960 960\">\n",
              "    <path d=\"M120-120v-720h720v720H120Zm60-500h600v-160H180v160Zm220 220h160v-160H400v160Zm0 220h160v-160H400v160ZM180-400h160v-160H180v160Zm440 0h160v-160H620v160ZM180-180h160v-160H180v160Zm440 0h160v-160H620v160Z\"/>\n",
              "  </svg>\n",
              "    </button>\n",
              "\n",
              "  <style>\n",
              "    .colab-df-container {\n",
              "      display:flex;\n",
              "      gap: 12px;\n",
              "    }\n",
              "\n",
              "    .colab-df-convert {\n",
              "      background-color: #E8F0FE;\n",
              "      border: none;\n",
              "      border-radius: 50%;\n",
              "      cursor: pointer;\n",
              "      display: none;\n",
              "      fill: #1967D2;\n",
              "      height: 32px;\n",
              "      padding: 0 0 0 0;\n",
              "      width: 32px;\n",
              "    }\n",
              "\n",
              "    .colab-df-convert:hover {\n",
              "      background-color: #E2EBFA;\n",
              "      box-shadow: 0px 1px 2px rgba(60, 64, 67, 0.3), 0px 1px 3px 1px rgba(60, 64, 67, 0.15);\n",
              "      fill: #174EA6;\n",
              "    }\n",
              "\n",
              "    .colab-df-buttons div {\n",
              "      margin-bottom: 4px;\n",
              "    }\n",
              "\n",
              "    [theme=dark] .colab-df-convert {\n",
              "      background-color: #3B4455;\n",
              "      fill: #D2E3FC;\n",
              "    }\n",
              "\n",
              "    [theme=dark] .colab-df-convert:hover {\n",
              "      background-color: #434B5C;\n",
              "      box-shadow: 0px 1px 3px 1px rgba(0, 0, 0, 0.15);\n",
              "      filter: drop-shadow(0px 1px 2px rgba(0, 0, 0, 0.3));\n",
              "      fill: #FFFFFF;\n",
              "    }\n",
              "  </style>\n",
              "\n",
              "    <script>\n",
              "      const buttonEl =\n",
              "        document.querySelector('#df-b7a7186e-1529-43a1-9d70-1f87f2a88d21 button.colab-df-convert');\n",
              "      buttonEl.style.display =\n",
              "        google.colab.kernel.accessAllowed ? 'block' : 'none';\n",
              "\n",
              "      async function convertToInteractive(key) {\n",
              "        const element = document.querySelector('#df-b7a7186e-1529-43a1-9d70-1f87f2a88d21');\n",
              "        const dataTable =\n",
              "          await google.colab.kernel.invokeFunction('convertToInteractive',\n",
              "                                                    [key], {});\n",
              "        if (!dataTable) return;\n",
              "\n",
              "        const docLinkHtml = 'Like what you see? Visit the ' +\n",
              "          '<a target=\"_blank\" href=https://colab.research.google.com/notebooks/data_table.ipynb>data table notebook</a>'\n",
              "          + ' to learn more about interactive tables.';\n",
              "        element.innerHTML = '';\n",
              "        dataTable['output_type'] = 'display_data';\n",
              "        await google.colab.output.renderOutput(dataTable, element);\n",
              "        const docLink = document.createElement('div');\n",
              "        docLink.innerHTML = docLinkHtml;\n",
              "        element.appendChild(docLink);\n",
              "      }\n",
              "    </script>\n",
              "  </div>\n",
              "\n",
              "\n",
              "<div id=\"df-3607ccf1-5b2b-43b7-88c8-07607f9ebf0c\">\n",
              "  <button class=\"colab-df-quickchart\" onclick=\"quickchart('df-3607ccf1-5b2b-43b7-88c8-07607f9ebf0c')\"\n",
              "            title=\"Suggest charts\"\n",
              "            style=\"display:none;\">\n",
              "\n",
              "<svg xmlns=\"http://www.w3.org/2000/svg\" height=\"24px\"viewBox=\"0 0 24 24\"\n",
              "     width=\"24px\">\n",
              "    <g>\n",
              "        <path d=\"M19 3H5c-1.1 0-2 .9-2 2v14c0 1.1.9 2 2 2h14c1.1 0 2-.9 2-2V5c0-1.1-.9-2-2-2zM9 17H7v-7h2v7zm4 0h-2V7h2v10zm4 0h-2v-4h2v4z\"/>\n",
              "    </g>\n",
              "</svg>\n",
              "  </button>\n",
              "\n",
              "<style>\n",
              "  .colab-df-quickchart {\n",
              "      --bg-color: #E8F0FE;\n",
              "      --fill-color: #1967D2;\n",
              "      --hover-bg-color: #E2EBFA;\n",
              "      --hover-fill-color: #174EA6;\n",
              "      --disabled-fill-color: #AAA;\n",
              "      --disabled-bg-color: #DDD;\n",
              "  }\n",
              "\n",
              "  [theme=dark] .colab-df-quickchart {\n",
              "      --bg-color: #3B4455;\n",
              "      --fill-color: #D2E3FC;\n",
              "      --hover-bg-color: #434B5C;\n",
              "      --hover-fill-color: #FFFFFF;\n",
              "      --disabled-bg-color: #3B4455;\n",
              "      --disabled-fill-color: #666;\n",
              "  }\n",
              "\n",
              "  .colab-df-quickchart {\n",
              "    background-color: var(--bg-color);\n",
              "    border: none;\n",
              "    border-radius: 50%;\n",
              "    cursor: pointer;\n",
              "    display: none;\n",
              "    fill: var(--fill-color);\n",
              "    height: 32px;\n",
              "    padding: 0;\n",
              "    width: 32px;\n",
              "  }\n",
              "\n",
              "  .colab-df-quickchart:hover {\n",
              "    background-color: var(--hover-bg-color);\n",
              "    box-shadow: 0 1px 2px rgba(60, 64, 67, 0.3), 0 1px 3px 1px rgba(60, 64, 67, 0.15);\n",
              "    fill: var(--button-hover-fill-color);\n",
              "  }\n",
              "\n",
              "  .colab-df-quickchart-complete:disabled,\n",
              "  .colab-df-quickchart-complete:disabled:hover {\n",
              "    background-color: var(--disabled-bg-color);\n",
              "    fill: var(--disabled-fill-color);\n",
              "    box-shadow: none;\n",
              "  }\n",
              "\n",
              "  .colab-df-spinner {\n",
              "    border: 2px solid var(--fill-color);\n",
              "    border-color: transparent;\n",
              "    border-bottom-color: var(--fill-color);\n",
              "    animation:\n",
              "      spin 1s steps(1) infinite;\n",
              "  }\n",
              "\n",
              "  @keyframes spin {\n",
              "    0% {\n",
              "      border-color: transparent;\n",
              "      border-bottom-color: var(--fill-color);\n",
              "      border-left-color: var(--fill-color);\n",
              "    }\n",
              "    20% {\n",
              "      border-color: transparent;\n",
              "      border-left-color: var(--fill-color);\n",
              "      border-top-color: var(--fill-color);\n",
              "    }\n",
              "    30% {\n",
              "      border-color: transparent;\n",
              "      border-left-color: var(--fill-color);\n",
              "      border-top-color: var(--fill-color);\n",
              "      border-right-color: var(--fill-color);\n",
              "    }\n",
              "    40% {\n",
              "      border-color: transparent;\n",
              "      border-right-color: var(--fill-color);\n",
              "      border-top-color: var(--fill-color);\n",
              "    }\n",
              "    60% {\n",
              "      border-color: transparent;\n",
              "      border-right-color: var(--fill-color);\n",
              "    }\n",
              "    80% {\n",
              "      border-color: transparent;\n",
              "      border-right-color: var(--fill-color);\n",
              "      border-bottom-color: var(--fill-color);\n",
              "    }\n",
              "    90% {\n",
              "      border-color: transparent;\n",
              "      border-bottom-color: var(--fill-color);\n",
              "    }\n",
              "  }\n",
              "</style>\n",
              "\n",
              "  <script>\n",
              "    async function quickchart(key) {\n",
              "      const quickchartButtonEl =\n",
              "        document.querySelector('#' + key + ' button');\n",
              "      quickchartButtonEl.disabled = true;  // To prevent multiple clicks.\n",
              "      quickchartButtonEl.classList.add('colab-df-spinner');\n",
              "      try {\n",
              "        const charts = await google.colab.kernel.invokeFunction(\n",
              "            'suggestCharts', [key], {});\n",
              "      } catch (error) {\n",
              "        console.error('Error during call to suggestCharts:', error);\n",
              "      }\n",
              "      quickchartButtonEl.classList.remove('colab-df-spinner');\n",
              "      quickchartButtonEl.classList.add('colab-df-quickchart-complete');\n",
              "    }\n",
              "    (() => {\n",
              "      let quickchartButtonEl =\n",
              "        document.querySelector('#df-3607ccf1-5b2b-43b7-88c8-07607f9ebf0c button');\n",
              "      quickchartButtonEl.style.display =\n",
              "        google.colab.kernel.accessAllowed ? 'block' : 'none';\n",
              "    })();\n",
              "  </script>\n",
              "</div>\n",
              "\n",
              "  <div id=\"id_59c8d1ec-4d8e-4e8b-84fe-1c9a199effbe\">\n",
              "    <style>\n",
              "      .colab-df-generate {\n",
              "        background-color: #E8F0FE;\n",
              "        border: none;\n",
              "        border-radius: 50%;\n",
              "        cursor: pointer;\n",
              "        display: none;\n",
              "        fill: #1967D2;\n",
              "        height: 32px;\n",
              "        padding: 0 0 0 0;\n",
              "        width: 32px;\n",
              "      }\n",
              "\n",
              "      .colab-df-generate:hover {\n",
              "        background-color: #E2EBFA;\n",
              "        box-shadow: 0px 1px 2px rgba(60, 64, 67, 0.3), 0px 1px 3px 1px rgba(60, 64, 67, 0.15);\n",
              "        fill: #174EA6;\n",
              "      }\n",
              "\n",
              "      [theme=dark] .colab-df-generate {\n",
              "        background-color: #3B4455;\n",
              "        fill: #D2E3FC;\n",
              "      }\n",
              "\n",
              "      [theme=dark] .colab-df-generate:hover {\n",
              "        background-color: #434B5C;\n",
              "        box-shadow: 0px 1px 3px 1px rgba(0, 0, 0, 0.15);\n",
              "        filter: drop-shadow(0px 1px 2px rgba(0, 0, 0, 0.3));\n",
              "        fill: #FFFFFF;\n",
              "      }\n",
              "    </style>\n",
              "    <button class=\"colab-df-generate\" onclick=\"generateWithVariable('df')\"\n",
              "            title=\"Generate code using this dataframe.\"\n",
              "            style=\"display:none;\">\n",
              "\n",
              "  <svg xmlns=\"http://www.w3.org/2000/svg\" height=\"24px\"viewBox=\"0 0 24 24\"\n",
              "       width=\"24px\">\n",
              "    <path d=\"M7,19H8.4L18.45,9,17,7.55,7,17.6ZM5,21V16.75L18.45,3.32a2,2,0,0,1,2.83,0l1.4,1.43a1.91,1.91,0,0,1,.58,1.4,1.91,1.91,0,0,1-.58,1.4L9.25,21ZM18.45,9,17,7.55Zm-12,3A5.31,5.31,0,0,0,4.9,8.1,5.31,5.31,0,0,0,1,6.5,5.31,5.31,0,0,0,4.9,4.9,5.31,5.31,0,0,0,6.5,1,5.31,5.31,0,0,0,8.1,4.9,5.31,5.31,0,0,0,12,6.5,5.46,5.46,0,0,0,6.5,12Z\"/>\n",
              "  </svg>\n",
              "    </button>\n",
              "    <script>\n",
              "      (() => {\n",
              "      const buttonEl =\n",
              "        document.querySelector('#id_59c8d1ec-4d8e-4e8b-84fe-1c9a199effbe button.colab-df-generate');\n",
              "      buttonEl.style.display =\n",
              "        google.colab.kernel.accessAllowed ? 'block' : 'none';\n",
              "\n",
              "      buttonEl.onclick = () => {\n",
              "        google.colab.notebook.generateWithVariable('df');\n",
              "      }\n",
              "      })();\n",
              "    </script>\n",
              "  </div>\n",
              "\n",
              "    </div>\n",
              "  </div>\n"
            ],
            "application/vnd.google.colaboratory.intrinsic+json": {
              "type": "dataframe",
              "variable_name": "df",
              "summary": "{\n  \"name\": \"df\",\n  \"rows\": 15,\n  \"fields\": [\n    {\n      \"column\": \"Name\",\n      \"properties\": {\n        \"dtype\": \"string\",\n        \"num_unique_values\": 15,\n        \"samples\": [\n          \"Johnathan Ahdout\",\n          \"Neel Ahuja\",\n          \"Liam Aranda-Michel\"\n        ],\n        \"semantic_type\": \"\",\n        \"description\": \"\"\n      }\n    },\n    {\n      \"column\": \"Age\",\n      \"properties\": {\n        \"dtype\": \"number\",\n        \"std\": 0,\n        \"min\": 17,\n        \"max\": 18,\n        \"num_unique_values\": 2,\n        \"samples\": [\n          17,\n          18\n        ],\n        \"semantic_type\": \"\",\n        \"description\": \"\"\n      }\n    },\n    {\n      \"column\": \"School\",\n      \"properties\": {\n        \"dtype\": \"string\",\n        \"num_unique_values\": 15,\n        \"samples\": [\n          \"John L. Miller Great Neck North High School\",\n          \"Millburn High School\"\n        ],\n        \"semantic_type\": \"\",\n        \"description\": \"\"\n      }\n    },\n    {\n      \"column\": \"State\",\n      \"properties\": {\n        \"dtype\": \"string\",\n        \"num_unique_values\": 9,\n        \"samples\": [\n          \"OH\",\n          \"TX\"\n        ],\n        \"semantic_type\": \"\",\n        \"description\": \"\"\n      }\n    },\n    {\n      \"column\": \"Project Title\",\n      \"properties\": {\n        \"dtype\": \"string\",\n        \"num_unique_values\": 15,\n        \"samples\": [\n          \"Contextualizing Data-Sparse QSPR Property Prediction With Categorical Representations Built from Variational Autoencoders\",\n          \"Reducing Per- and Polyfluoroalkyl Substances (PFAS) Water Contamination With Mycorrhizal Hydroponics Plants\"\n        ],\n        \"semantic_type\": \"\",\n        \"description\": \"\"\n      }\n    }\n  ]\n}"
            }
          },
          "metadata": {},
          "execution_count": 52
        }
      ]
    },
    {
      "cell_type": "code",
      "source": [],
      "metadata": {
        "id": "8T1xyJsdn16z"
      },
      "execution_count": null,
      "outputs": []
    },
    {
      "cell_type": "code",
      "source": [],
      "metadata": {
        "id": "fnqapaIZn14g"
      },
      "execution_count": null,
      "outputs": []
    },
    {
      "cell_type": "code",
      "source": [],
      "metadata": {
        "id": "s32ULqX2n11S"
      },
      "execution_count": null,
      "outputs": []
    },
    {
      "cell_type": "code",
      "source": [],
      "metadata": {
        "id": "dHwaUpann1ya"
      },
      "execution_count": null,
      "outputs": []
    },
    {
      "cell_type": "code",
      "source": [],
      "metadata": {
        "id": "2l7oMyxQn1v9"
      },
      "execution_count": null,
      "outputs": []
    },
    {
      "cell_type": "code",
      "source": [],
      "metadata": {
        "id": "-0eBRNWmn1nv"
      },
      "execution_count": null,
      "outputs": []
    },
    {
      "cell_type": "code",
      "source": [],
      "metadata": {
        "id": "xiqIau8SuM8Q"
      },
      "execution_count": null,
      "outputs": []
    }
  ]
}